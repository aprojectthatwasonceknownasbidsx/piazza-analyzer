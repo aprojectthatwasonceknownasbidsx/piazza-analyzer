{
 "cells": [
  {
   "cell_type": "code",
   "execution_count": 1,
   "metadata": {
    "collapsed": true
   },
   "outputs": [],
   "source": [
    "from sqlalchemy import create_engine                                             \n",
    "from sqlalchemy.orm import sessionmaker                                          \n",
    "from models import Post, Comment, Topic   "
   ]
  },
  {
   "cell_type": "code",
   "execution_count": 2,
   "metadata": {
    "collapsed": true
   },
   "outputs": [],
   "source": [
    "engine = create_engine(\"sqlite:///test.db\",echo=False)\n",
    "Sess = sessionmaker(bind=engine)\n",
    "session = Sess()"
   ]
  },
  {
   "cell_type": "code",
   "execution_count": 3,
   "metadata": {
    "collapsed": false
   },
   "outputs": [],
   "source": [
    "posts =session.query(Post).all()"
   ]
  },
  {
   "cell_type": "code",
   "execution_count": 4,
   "metadata": {
    "collapsed": true
   },
   "outputs": [],
   "source": [
    "from textblob import TextBlob"
   ]
  },
  {
   "cell_type": "code",
   "execution_count": 5,
   "metadata": {
    "collapsed": false
   },
   "outputs": [
    {
     "data": {
      "text/plain": [
       "TextBlob(\"Based on demand, we might be providing guerrilla sections.\n",
       "Who should attend:\n",
       "If you still feel shaky about concepts we covered so far (Propositional logic, Proofs, Inductions, Stable)It's not suitable for people who are looking for advanced exercises \n",
       "How these sections will work:\n",
       "These are not lectures. We'll provide problem sets based common questions TAs get from sections/OH/homework parties.You'll be working in groups, discuss and solve problems together.You'll be helping each other out, making progress as a group (explaining to others will help you further understand concepts).Tutors/readers/TAs will be available to help.\n",
       "\n",
       "RSVP in the pool below if you are interested:\n",
       " [o] Yes I would like to attend\")"
      ]
     },
     "execution_count": 5,
     "metadata": {},
     "output_type": "execute_result"
    }
   ],
   "source": [
    "post1 = TextBlob(posts[530].body)\n",
    "post1"
   ]
  },
  {
   "cell_type": "code",
   "execution_count": 12,
   "metadata": {
    "collapsed": false
   },
   "outputs": [],
   "source": [
    "polarities = []\n",
    "subjectivities = []\n",
    "times = []\n",
    "for post in posts:\n",
    "    tb = TextBlob(post.body)\n",
    "    polarities.append(tb.sentiment.polarity)\n",
    "    subjectivities.append(tb.sentiment.subjectivity)\n",
    "    times.append(post.time.toordinal())\n"
   ]
  },
  {
   "cell_type": "code",
   "execution_count": 11,
   "metadata": {
    "collapsed": false
   },
   "outputs": [
    {
     "data": {
      "text/plain": [
       "735981"
      ]
     },
     "execution_count": 11,
     "metadata": {},
     "output_type": "execute_result"
    },
    {
     "data": {
      "image/png": "[encoded data removed]",
      "text/plain": [
       "<matplotlib.figure.Figure at 0x7f65e09d2390>"
      ]
     },
     "metadata": {},
     "output_type": "display_data"
    }
   ],
   "source": [
    "%matplotlib inline\n",
    "plt.hist(polarities)\n"
   ]
  },
  {
   "cell_type": "code",
   "execution_count": 14,
   "metadata": {
    "collapsed": false
   },
   "outputs": [
    {
     "data": {
      "text/plain": [
       "<matplotlib.collections.PathCollection at 0x7f65e0ab5470>"
      ]
     },
     "execution_count": 14,
     "metadata": {},
     "output_type": "execute_result"
    },
    {
     "data": {
      "image/png": "[encoded data removed]",
      "text/plain": [
       "<matplotlib.figure.Figure at 0x7f65e0a5d198>"
      ]
     },
     "metadata": {},
     "output_type": "display_data"
    }
   ],
   "source": [
    "plt.scatter(times,polarities)"
   ]
  },
  {
   "cell_type": "code",
   "execution_count": 108,
   "metadata": {
    "collapsed": false
   },
   "outputs": [
    {
     "data": {
      "text/plain": [
       "(array([ 227.,   36.,   58.,   86.,   89.,   83.,   54.,   18.,   11.,   32.]),\n",
       " array([ 0. ,  0.1,  0.2,  0.3,  0.4,  0.5,  0.6,  0.7,  0.8,  0.9,  1. ]),\n",
       " <a list of 10 Patch objects>)"
      ]
     },
     "execution_count": 108,
     "metadata": {},
     "output_type": "execute_result"
    },
    {
     "data": {
      "image/png": "[encoded data removed]",
      "text/plain": [
       "<matplotlib.figure.Figure at 0x7f4504047a20>"
      ]
     },
     "metadata": {},
     "output_type": "display_data"
    }
   ],
   "source": [
    "plt.hist(subjectivities)"
   ]
  },
  {
   "cell_type": "code",
   "execution_count": 15,
   "metadata": {
    "collapsed": false
   },
   "outputs": [
    {
     "data": {
      "text/plain": [
       "<matplotlib.collections.PathCollection at 0x7f65e0afb550>"
      ]
     },
     "execution_count": 15,
     "metadata": {},
     "output_type": "execute_result"
    },
    {
     "data": {
      "image/png": "[encoded data removed]",
      "text/plain": [
       "<matplotlib.figure.Figure at 0x7f65e0aa1518>"
      ]
     },
     "metadata": {},
     "output_type": "display_data"
    }
   ],
   "source": [
    "plt.scatter(times,subjectivities)"
   ]
  },
  {
   "cell_type": "code",
   "execution_count": 17,
   "metadata": {
    "collapsed": false
   },
   "outputs": [
    {
     "data": {
      "text/plain": [
       "(array([ 113.,   83.,   72.,   49.,  164.,   38.,   41.,   46.,   41.,   47.]),\n",
       " array([ 735981. ,  735987.1,  735993.2,  735999.3,  736005.4,  736011.5,\n",
       "         736017.6,  736023.7,  736029.8,  736035.9,  736042. ]),\n",
       " <a list of 10 Patch objects>)"
      ]
     },
     "execution_count": 17,
     "metadata": {},
     "output_type": "execute_result"
    },
    {
     "data": {
      "image/png": "[encoded data removed]",
      "text/plain": [
       "<matplotlib.figure.Figure at 0x7f65e04c1710>"
      ]
     },
     "metadata": {},
     "output_type": "display_data"
    }
   ],
   "source": [
    "plt.hist(times)"
   ]
  },
  {
   "cell_type": "code",
   "execution_count": 20,
   "metadata": {
    "collapsed": false
   },
   "outputs": [
    {
     "data": {
      "text/plain": [
       "'student'"
      ]
     },
     "execution_count": 20,
     "metadata": {},
     "output_type": "execute_result"
    }
   ],
   "source": [
    "topic = post.topics[0]\n",
    "topic.name"
   ]
  },
  {
   "cell_type": "code",
   "execution_count": 110,
   "metadata": {
    "collapsed": false
   },
   "outputs": [],
   "source": [
    "from gensim import corpora, models, similarities"
   ]
  },
  {
   "cell_type": "code",
   "execution_count": 111,
   "metadata": {
    "collapsed": false
   },
   "outputs": [],
   "source": [
    "texts = [post.body for post in posts]\n",
    "stoplist = set('for a of the and to in i who what are be is'.split())\n",
    "texts = [[word for word in text.lower().split() if word not in stoplist] for text in texts]"
   ]
  },
  {
   "cell_type": "code",
   "execution_count": 113,
   "metadata": {
    "collapsed": false
   },
   "outputs": [],
   "source": [
    "from collections import defaultdict\n",
    "frequency = defaultdict(int)\n",
    "for text in texts:\n",
    "    for token in text:\n",
    "        frequency[token] += 1\n",
    "weeded_texts = [[token for token in text if frequency[token] > 1] for text in texts]\n"
   ]
  },
  {
   "cell_type": "code",
   "execution_count": 114,
   "metadata": {
    "collapsed": false
   },
   "outputs": [],
   "source": [
    "dictionary = corpora.Dictionary(texts)\n",
    "corpus = [dictionary.doc2bow(text) for text in texts]\n"
   ]
  },
  {
   "cell_type": "code",
   "execution_count": 115,
   "metadata": {
    "collapsed": false
   },
   "outputs": [],
   "source": [
    "tfidf = models.TfidfModel(corpus)\n",
    "lsi = models.LsiModel(corpus, id2word=dictionary, num_topics=10)\n",
    "lda = models.ldamodel.LdaModel(corpus, id2word=dictionary, num_topics=10)"
   ]
  },
  {
   "cell_type": "code",
   "execution_count": 116,
   "metadata": {
    "collapsed": true
   },
   "outputs": [],
   "source": [
    "doc = \"what is graph theory\"\n",
    "vec_bow = dictionary.doc2bow(doc.lower().split())\n",
    "vec_lsi = lsi[vec_bow]"
   ]
  },
  {
   "cell_type": "code",
   "execution_count": 117,
   "metadata": {
    "collapsed": false
   },
   "outputs": [
    {
     "data": {
      "text/plain": [
       "array([ -5.15318848e-02,   7.19737351e-01,   4.30152789e-02,\n",
       "         4.30152789e-02,   4.30152789e-02,   4.30152789e-02,\n",
       "         4.30152789e-02,   4.30152789e-02,   2.43958145e-01,\n",
       "        -1.39826406e-02,  -2.40952726e-02,   1.56950757e-01,\n",
       "         1.41529098e-01,   4.94604483e-02,   4.35589135e-01,\n",
       "         4.50120509e-01,   5.48217058e-01,   9.19307619e-02,\n",
       "         4.30152789e-02,   1.74900353e-01,   6.37101382e-03,\n",
       "        -1.51006840e-02,  -1.75666045e-02,   6.41887113e-02,\n",
       "        -4.42003086e-02,   6.59542084e-02,   0.00000000e+00,\n",
       "         1.93591192e-01,   6.83578104e-02,   1.31756946e-01,\n",
       "         1.05105206e-01,   9.19105113e-02,   1.86348170e-01,\n",
       "         0.00000000e+00,   2.12967798e-01,   1.70438707e-01,\n",
       "         3.20685118e-01,   1.51874974e-01,  -6.85392246e-02,\n",
       "        -4.20986526e-02,   1.67980418e-01,   1.19099110e-01,\n",
       "         6.54475112e-03,   2.59564996e-01,   0.00000000e+00,\n",
       "        -1.10925883e-02,   1.74427591e-02,  -4.69515473e-02,\n",
       "         5.15914410e-02,   9.53600109e-02,  -3.99217233e-02,\n",
       "         4.14574519e-02,   8.48186910e-02,   1.38858780e-01,\n",
       "         1.02351129e-01,   1.24621585e-01,   2.24319562e-01,\n",
       "         5.02063818e-02,   1.23487704e-01,  -4.10137791e-03,\n",
       "        -1.75935149e-01,   3.56365442e-01,   2.99894791e-02,\n",
       "         3.11166823e-01,  -1.91543028e-01,   1.65666282e-01,\n",
       "         7.32249543e-02,   1.59453213e-01,   1.79477111e-01,\n",
       "        -1.07554697e-01,   2.18587406e-02,   2.41499603e-01,\n",
       "         9.42029990e-04,   1.44178063e-01,   1.39527559e-01,\n",
       "         2.13326424e-01,   1.71652474e-02,   7.31903687e-02,\n",
       "         5.15195131e-02,   9.68876556e-02,   1.80631831e-01,\n",
       "         0.00000000e+00,   5.56239858e-02,   5.45735694e-02,\n",
       "         8.10602307e-02,   9.28171575e-02,   1.37574822e-01,\n",
       "        -2.46228557e-03,   1.53276518e-01,   4.92591485e-02,\n",
       "         2.63526142e-02,  -2.15967093e-02,   2.43775472e-01,\n",
       "         9.45658833e-02,  -2.88057234e-02,   1.90102756e-01,\n",
       "         6.04234003e-02,   1.28213659e-01,   2.26816610e-01,\n",
       "        -2.97764428e-02,   1.42096266e-01,   8.59876573e-02,\n",
       "        -8.25904757e-02,   4.51378375e-02,  -3.38538364e-02,\n",
       "         1.45919129e-01,  -1.31963879e-01,  -7.57093281e-02,\n",
       "         0.00000000e+00,   0.00000000e+00,   0.00000000e+00,\n",
       "         1.07065119e-01,   3.53781819e-01,   1.44624427e-01,\n",
       "         2.78249476e-03,   8.78719240e-02,   3.08333989e-02,\n",
       "         8.73269588e-02,   1.36614144e-01,   5.04978783e-02,\n",
       "         4.91033703e-01,   1.68729782e-01,  -3.77317518e-02,\n",
       "         2.09780902e-01,   1.17928594e-01,   1.76059738e-01,\n",
       "        -7.58333951e-02,   1.43403038e-01,   0.00000000e+00,\n",
       "         2.25469023e-01,  -4.23737019e-02,   3.58048797e-01,\n",
       "         5.03828637e-02,  -3.95283103e-02,   0.00000000e+00,\n",
       "         0.00000000e+00,   6.62407875e-02,   8.13598856e-02,\n",
       "         1.58309206e-01,  -1.01396609e-02,  -1.04447611e-01,\n",
       "         1.53194740e-01,   2.41119444e-01,   1.52455553e-01,\n",
       "        -8.58601183e-03,   4.98597920e-02,  -4.40472318e-03,\n",
       "         5.86112477e-02,   2.37477630e-01,   7.20446408e-02,\n",
       "         3.69133428e-02,   3.04879900e-02,  -9.16140825e-02,\n",
       "         1.35340661e-01,   5.72114527e-01,  -1.25212014e-01,\n",
       "         2.37504438e-01,   1.41023740e-01,   1.59644186e-01,\n",
       "         3.42884064e-02,  -2.71041878e-03,   3.45889293e-02,\n",
       "         2.16722548e-01,   0.00000000e+00,   0.00000000e+00,\n",
       "        -1.73534825e-03,   1.70197692e-02,   0.00000000e+00,\n",
       "         1.24992177e-01,   0.00000000e+00,  -5.38437217e-02,\n",
       "         3.63903165e-01,   1.21415682e-01,   4.67738882e-02,\n",
       "         1.99117020e-01,   3.89873087e-02,   6.63291141e-02,\n",
       "         1.72996253e-01,   5.21441586e-02,   1.14236280e-01,\n",
       "         1.83892980e-01,   6.77403063e-02,  -8.73581693e-02,\n",
       "         3.44284698e-02,   9.94453207e-02,   9.90233719e-02,\n",
       "        -1.04447611e-01,   1.79543331e-01,  -1.15333525e-02,\n",
       "         3.86097372e-01,   2.43661320e-03,  -6.53488412e-02,\n",
       "        -3.41527238e-02,   6.81119859e-02,   2.68810336e-03,\n",
       "         5.29622659e-02,   0.00000000e+00,   0.00000000e+00,\n",
       "         0.00000000e+00,   0.00000000e+00,   0.00000000e+00,\n",
       "         7.40547180e-02,   8.18942785e-02,  -1.04447611e-01,\n",
       "        -2.56616622e-04,   1.25013426e-01,   5.04184246e-01,\n",
       "         1.79322198e-01,   9.82291549e-02,   2.12680534e-01,\n",
       "         4.71034870e-02,  -1.35549754e-02,  -1.44162983e-01,\n",
       "         1.38655659e-02,   3.45841289e-01,  -5.78593984e-02,\n",
       "         2.31489018e-01,  -1.29766352e-02,   5.05481660e-01,\n",
       "         4.40129787e-01,   3.12293619e-01,   1.93132192e-01,\n",
       "         2.08162025e-01,  -9.95572843e-03,   9.84728560e-02,\n",
       "         1.74291521e-01,  -1.83357624e-03,   1.03229076e-01,\n",
       "         1.44577056e-01,   4.95695509e-02,   8.44115764e-02,\n",
       "         3.49693507e-01,   1.78151876e-01,   2.77655125e-01,\n",
       "         2.23281965e-01,  -3.39468829e-02,   2.02361882e-01,\n",
       "         1.72316521e-01,   2.40675017e-01,   7.35002905e-02,\n",
       "         8.17992166e-02,   2.72251576e-01,   1.02600440e-01,\n",
       "         3.61886807e-03,   3.28219235e-01,  -8.94433260e-02,\n",
       "         5.97853810e-02,   3.24246645e-01,   1.06039070e-01,\n",
       "         1.93603396e-01,  -1.15907276e-02,   4.83117476e-02,\n",
       "         4.46300209e-02,   1.51565537e-01,  -7.39041641e-02,\n",
       "         0.00000000e+00,  -5.66828884e-02,   3.63449529e-02,\n",
       "         1.58555344e-01,   9.77607816e-02,   1.50377452e-01,\n",
       "         5.24279475e-01,   2.76151389e-01,   1.90108791e-01,\n",
       "         2.75075566e-02,   6.44199774e-02,  -1.40620887e-01,\n",
       "        -2.36103311e-03,  -1.42909199e-01,   1.40107602e-01,\n",
       "         1.39307708e-01,   1.00117169e-01,   4.49403077e-01,\n",
       "         3.10289562e-02,  -2.20054258e-02,   1.55795105e-02,\n",
       "         1.23748541e-01,   1.46929577e-01,  -6.80975467e-02,\n",
       "         3.66098136e-01,   4.76668149e-01,   2.02742785e-01,\n",
       "         2.70386517e-01,   2.39752829e-02,   1.03413485e-01,\n",
       "         1.25034213e-01,   9.62057710e-02,   1.80694889e-02,\n",
       "         3.29261422e-01,   3.61135043e-02,  -2.78724194e-01,\n",
       "         1.42919809e-01,  -1.25388771e-01,   1.88667458e-02,\n",
       "         1.52141273e-01,   6.47884756e-02,  -1.55241434e-02,\n",
       "         1.11288130e-01,   4.00919802e-02,  -1.44789135e-02,\n",
       "         9.31717753e-02,  -7.75530487e-02,  -6.70362636e-02,\n",
       "         0.00000000e+00,   8.96063298e-02,   5.46953157e-02,\n",
       "         1.48142979e-01,   3.27130407e-01,   2.63545692e-01,\n",
       "        -1.01840813e-02,   4.54435885e-01,   1.70618758e-01,\n",
       "         1.89349413e-01,   1.96394771e-01,   8.03188980e-02,\n",
       "         2.53884673e-01,   8.58212560e-02,   1.42551944e-01,\n",
       "         3.86191532e-02,   1.91543698e-02,   7.98634067e-02,\n",
       "         3.74663442e-01,   7.92193860e-02,   1.07317552e-01,\n",
       "         6.43876642e-02,   3.50655392e-02,   2.90064961e-01,\n",
       "         2.77339637e-01,   5.20867348e-01,  -7.32799098e-02,\n",
       "         4.63507399e-02,   3.30681860e-01,  -1.29801944e-01,\n",
       "         5.36042713e-02,  -1.26844212e-01,   1.97696865e-01,\n",
       "         1.78374186e-01,   1.42738655e-01,  -6.57434203e-03,\n",
       "        -1.74143046e-01,   1.56542987e-01,   1.04899794e-01,\n",
       "         5.91702998e-01,   0.00000000e+00,  -3.85880545e-02,\n",
       "         2.76103020e-01,   1.73931777e-01,   1.05896499e-02,\n",
       "        -1.30334601e-01,   2.61629578e-02,  -6.99032024e-02,\n",
       "         5.02102911e-01,   3.41401905e-01,   1.20784491e-01,\n",
       "         6.40433133e-02,  -9.82651263e-02,   1.79190204e-01,\n",
       "         2.39083916e-01,   3.87800068e-01,   1.01303622e-01,\n",
       "        -1.16468305e-02,   1.47692844e-01,   7.33654052e-02,\n",
       "         1.49694845e-01,   2.85963137e-02,  -1.26844212e-01,\n",
       "        -3.40409577e-04,   3.63176689e-04,   1.74187109e-01,\n",
       "         3.45465839e-02,   1.09590106e-01,   1.47521079e-01,\n",
       "         0.00000000e+00,   0.00000000e+00,   0.00000000e+00,\n",
       "         0.00000000e+00,   0.00000000e+00,   6.20736241e-01,\n",
       "         0.00000000e+00,  -4.61821258e-02,   0.00000000e+00,\n",
       "         1.48108393e-01,   9.49270800e-02,   3.49020690e-01,\n",
       "        -8.99723172e-02,   1.60223827e-01,   1.02529548e-01,\n",
       "         7.44066954e-01,  -2.42828261e-02,   7.34887272e-02,\n",
       "         0.00000000e+00,  -3.60982507e-01,   2.92881310e-01,\n",
       "         2.73032077e-02,   1.20649442e-01,   8.59503523e-02,\n",
       "         1.39023261e-02,   1.26888692e-01,   4.14514318e-02,\n",
       "         0.00000000e+00,   3.10395330e-01,   4.21035081e-01,\n",
       "         1.39902487e-01,   2.80460268e-01,   1.89753205e-01,\n",
       "         1.14002451e-01,  -1.51996672e-01,   2.06854939e-01,\n",
       "         2.56481528e-01,   1.96818233e-01,   2.29709491e-01,\n",
       "         9.44427475e-02,   4.81737077e-01,   6.73928708e-02,\n",
       "         2.84579307e-01,   0.00000000e+00,  -1.33776367e-01,\n",
       "         6.28691912e-02,   8.98645893e-02,   1.86348692e-01,\n",
       "         3.73100251e-01,   1.22275151e-01,  -6.82458878e-02,\n",
       "         1.67518750e-01,   2.74478495e-01,   3.11329328e-02,\n",
       "         3.61853577e-02,   9.36011150e-02,   1.02203138e-01,\n",
       "         2.61219829e-01,   1.04777373e-01,  -2.90878192e-02,\n",
       "         7.27298185e-02,   1.10972673e-01,   3.78662854e-01,\n",
       "        -3.70254815e-02,   9.99431014e-02,  -1.15880951e-01,\n",
       "         0.00000000e+00,   3.41763109e-01,   0.00000000e+00,\n",
       "         2.62996107e-02,   2.59348899e-01,   6.49669409e-01,\n",
       "         0.00000000e+00,   0.00000000e+00,   6.90814108e-02,\n",
       "         2.82886893e-01,   1.03843130e-01,   1.05291657e-01,\n",
       "         1.56255156e-01,   1.13384269e-01,   2.03089878e-01,\n",
       "         3.06525268e-02,   6.98468685e-02,  -4.73586395e-02,\n",
       "         4.68238294e-02,   1.83690652e-01,  -9.75243151e-02,\n",
       "         2.14389443e-01,   2.89652944e-01,   1.68555051e-01,\n",
       "         7.17915744e-02,   3.29057753e-01,   1.99906200e-01,\n",
       "         7.93830901e-02,   1.85122028e-01,   3.97447199e-02,\n",
       "         1.92350343e-01,   4.60186116e-02,  -3.16827893e-02,\n",
       "        -1.80020295e-02,   0.00000000e+00,   0.00000000e+00,\n",
       "         5.43698430e-01,  -4.32421193e-02,   0.00000000e+00,\n",
       "         1.22034438e-01,   1.45765841e-02,  -6.17856160e-04,\n",
       "        -1.42674088e-01,   1.57018125e-01,   2.81488094e-02,\n",
       "         2.58314107e-02,   3.48604053e-01,   9.08234417e-02,\n",
       "         8.81771743e-02,  -4.82050851e-02,   1.26400292e-01,\n",
       "        -2.08403002e-02,   7.79802650e-02,   7.63746276e-02,\n",
       "         0.00000000e+00,  -3.80021036e-02,   2.08822384e-01,\n",
       "         3.15830000e-02,   4.92215417e-02,   4.69772443e-02,\n",
       "         3.33634801e-02,   1.42436000e-02,   6.59796074e-02,\n",
       "         0.00000000e+00,  -3.13540280e-01,   3.03546935e-02,\n",
       "         6.72558099e-02,  -7.53235146e-02,   1.56349912e-01,\n",
       "         1.45668715e-01,   5.17255962e-02,   3.23673815e-01,\n",
       "         3.90862599e-02,  -1.25208959e-01,   2.30506003e-01,\n",
       "         0.00000000e+00,   0.00000000e+00,   0.00000000e+00,\n",
       "         0.00000000e+00,   0.00000000e+00,   1.58478945e-01,\n",
       "         0.00000000e+00,   5.46753630e-02,   1.13679968e-01,\n",
       "         7.31607527e-02,   1.40838519e-01,  -1.53975651e-01,\n",
       "         2.46195540e-01,   5.35800576e-01,  -4.16247360e-03,\n",
       "         2.72677094e-01,   1.43661536e-02,   6.30797446e-02,\n",
       "         2.24775895e-02,   3.87624055e-02,   5.35800576e-01,\n",
       "         3.60398553e-02,  -8.83362144e-02,   9.49250832e-02,\n",
       "        -1.42536104e-01,  -1.22367248e-01,  -6.34388775e-02,\n",
       "         1.23217568e-01,   2.60128587e-01,   3.22950095e-01,\n",
       "         1.34726554e-01,   3.86244804e-02,   4.16390561e-02,\n",
       "         6.46997616e-02,  -7.01598227e-02,   2.27691501e-01,\n",
       "         1.67194456e-01,   6.74650967e-02,   3.11379880e-02,\n",
       "         4.12630513e-02,   7.33343586e-02,   1.52702630e-01,\n",
       "         3.00545292e-03,  -6.27697557e-02,   2.15925530e-01,\n",
       "        -7.92623870e-03,   2.14745812e-02,   1.15341708e-01,\n",
       "        -1.75935149e-01,   1.85544103e-01,   1.87596917e-01,\n",
       "         1.49752527e-01,   2.07172409e-01,  -7.57857561e-02,\n",
       "         2.94732243e-01,   1.40838519e-01,   4.20876965e-02,\n",
       "         7.77880475e-02,   1.44560993e-01,  -7.85814971e-02,\n",
       "         7.06638917e-02,   7.67160505e-02,   2.02784553e-01,\n",
       "        -3.21134329e-02,   1.78257450e-01,   4.69313860e-02,\n",
       "        -6.17527328e-02,  -2.07543932e-02,   1.07979082e-01,\n",
       "        -4.44968753e-02,   2.35074997e-01,   1.56780139e-01,\n",
       "         2.17265442e-01,   1.63030684e-01,   2.79287934e-01,\n",
       "         2.93743312e-02,  -5.22737317e-02,   1.53296769e-01,\n",
       "         3.67828235e-02,   1.85243301e-02,   1.96350855e-03,\n",
       "         1.69166438e-02,  -1.13514690e-02,  -4.18720953e-02,\n",
       "         3.04707110e-01,  -8.13004002e-03,   7.78373554e-02,\n",
       "        -1.93825830e-02,   3.19450423e-02,   1.31724924e-01,\n",
       "        -2.00161934e-02,   1.62455007e-01,   1.80755556e-01,\n",
       "         2.51216352e-01,   8.67996886e-02,   2.35259533e-04,\n",
       "         1.52454987e-01,  -1.94404200e-01,   4.51257005e-02,\n",
       "         1.48213163e-01,   4.32218798e-02,   4.24136147e-02,\n",
       "         1.20782040e-01,   0.00000000e+00,  -1.82877649e-02,\n",
       "         0.00000000e+00,   1.58087537e-01,   1.28481194e-01,\n",
       "         3.25088799e-02,   0.00000000e+00,   0.00000000e+00,\n",
       "         0.00000000e+00,   0.00000000e+00,   0.00000000e+00,\n",
       "         0.00000000e+00,   0.00000000e+00,   0.00000000e+00,\n",
       "         1.11109033e-01,  -4.15840186e-02,   7.64895305e-02,\n",
       "         3.63197327e-02,   1.19111821e-01,   3.35474879e-01,\n",
       "         1.99492708e-01,   1.37570977e-01,   1.26798019e-01,\n",
       "         3.71364772e-01,  -1.75935149e-01,  -1.75935149e-01,\n",
       "         5.82989566e-02,   1.25171781e-01,  -1.24951959e-01,\n",
       "        -6.71951771e-02,   1.89244244e-02,  -7.96086118e-02,\n",
       "         8.25075209e-02,   6.99642450e-02,  -1.56823874e-01,\n",
       "         1.52393639e-01,   6.59347028e-02,   4.52470064e-01,\n",
       "         9.27138776e-02,   1.21675260e-01,   1.54963836e-01,\n",
       "         4.35789749e-02,   4.76437211e-02,   2.06630826e-02,\n",
       "         6.67002723e-02,  -2.14008987e-01,   2.04857826e-01,\n",
       "         5.34882173e-02,   9.21056792e-02,  -3.45854051e-02,\n",
       "         1.19858943e-01,   3.25036198e-01,  -8.11400041e-02,\n",
       "         4.46064584e-03,   3.80061150e-01,   1.56759515e-01,\n",
       "         1.83745980e-01,   2.07472146e-02,   2.77098060e-01,\n",
       "         1.35337472e-01,   8.99006501e-02,   1.83484256e-01,\n",
       "         2.51652617e-02,   3.35456841e-02,  -2.26815000e-01,\n",
       "        -3.28796133e-02,  -1.48160905e-01,   1.32428361e-02,\n",
       "         3.83921005e-02,   8.34157243e-02,   1.00020014e-01,\n",
       "        -1.91543028e-01,   3.17423567e-02,   1.91498417e-02,\n",
       "        -1.07789990e-02,   7.08845183e-02,   0.00000000e+00,\n",
       "        -2.26005390e-02], dtype=float32)"
      ]
     },
     "execution_count": 117,
     "metadata": {},
     "output_type": "execute_result"
    }
   ],
   "source": [
    "index = similarities.MatrixSimilarity(lsi[corpus])\n",
    "sims = index[vec_lsi]\n",
    "sims"
   ]
  },
  {
   "cell_type": "code",
   "execution_count": 122,
   "metadata": {
    "collapsed": false
   },
   "outputs": [
    {
     "name": "stdout",
     "output_type": "stream",
     "text": [
      "['that', 'we', 'not', 'this', 'on', 'you', 'if', 'or', '=', 'it']\n",
      "['you', 'your', 'part', '=', '|', 'students', 'edges', 'graph', 'will', 'questions']\n",
      "['=', 'we', 'you', 'students', 'part', '0', 'that', 'on', '+', 'not']\n",
      "['|', 'you', 'it', '*', 'post', 'your', '--------------------------------------------------------------------------------', 'proof', 'piazza', 'if']\n",
      "['=', 'we', '+', '$$p$$', 'truth', 'if', 's=a,', 'o=b', 'pr[', ']']\n",
      "['[*]', 'modular', 'arithmetic', 'stable', '(2)', '(1)', '(3)', 'marriage', 'induction', '&']\n",
      "['you', 'it', 'will', 'we', '=', 'have', 'that', 'not', 'this', 'if']\n",
      "['it', '$$p$$', '=', 'truth', 'there', 'we', '\\\\leftrightarrow', 'q$$', 'that', 'about']\n",
      "['+', 'if', 'not', 'it', 'p(x)', 'there', 'q(x)', '=', 'by', 'with']\n",
      "['+', 'with', 'stable', 'original', 'they', 'alternate', 'not', 'instance', 'will', 'x']\n"
     ]
    }
   ],
   "source": [
    "for i in range(10):\n",
    "    print([q[0] for q in lsi.show_topics(formatted=False)[i][1]])"
   ]
  }
 ],
 "metadata": {
  "kernelspec": {
   "display_name": "Python 3",
   "language": "python",
   "name": "python3"
  },
  "language_info": {
   "codemirror_mode": {
    "name": "ipython",
    "version": 3
   },
   "file_extension": ".py",
   "mimetype": "text/x-python",
   "name": "python",
   "nbconvert_exporter": "python",
   "pygments_lexer": "ipython3",
   "version": "3.5.1"
  }
 },
 "nbformat": 4,
 "nbformat_minor": 0
}
